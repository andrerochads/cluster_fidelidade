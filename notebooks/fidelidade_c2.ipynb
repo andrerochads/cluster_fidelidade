{
 "cells": [
  {
   "cell_type": "markdown",
   "metadata": {},
   "source": [
    "# **High Value Customer Identification - Notebook A** "
   ]
  },
  {
   "cell_type": "markdown",
   "metadata": {},
   "source": [
    "Context\n",
    "Typically e-commerce datasets are proprietary and consequently hard to find among publicly available data. However, The UCI Machine Learning Repository has made this dataset containing actual transactions from 2010 and 2011. The dataset is maintained on their site, where it can be found by the title \"Online Retail\".\n",
    "\n",
    "Content\n",
    "\"This is a transnational data set which contains all the transactions occurring between 01/12/2010 and 09/12/2011 for a UK-based and registered non-store online retail.The company mainly sells unique all-occasion gifts. Many customers of the company are wholesalers.\""
   ]
  },
  {
   "cell_type": "markdown",
   "metadata": {},
   "source": [
    "**Tópicos neste notebook:**\n",
    "\n",
    "1 - Data Description\n",
    "\n",
    "2 - Feature Engineering\n",
    "\n",
    "3 - Filtragem de Variáveis"
   ]
  },
  {
   "cell_type": "markdown",
   "metadata": {},
   "source": [
    "# Planejamento da Solução (IOT)"
   ]
  },
  {
   "cell_type": "markdown",
   "metadata": {},
   "source": [
    "## Input - Entrada"
   ]
  },
  {
   "cell_type": "markdown",
   "metadata": {},
   "source": [
    "1. Problema de negócio: selecionar os mais valiosos clientes para formar o programa de fidelidade **\"INSIDERS\"**\n",
    "2. Conjunto de dados com as vendas de produtos durante 1 ano ( Dez 2010 to Dez 2011)"
   ]
  },
  {
   "cell_type": "markdown",
   "metadata": {},
   "source": [
    "## Output - Saída"
   ]
  },
  {
   "cell_type": "markdown",
   "metadata": {},
   "source": [
    "1. A indicação de pessoas para fazer parte do programa de fidelidade **\"INSIDERS\"**.\n",
    "\n",
    "2. Relatório com as respostas para as seguintes perguntas:\n",
    "    - Quem são as pessoas elegíveis para participar do programa de Insiders ?\n",
    "    - Quantos clientes farão parte do grupo?\n",
    "    - Quais as principais características desses clientes ?\n",
    "    - Qual a porcentagem de contribuição do faturamento, vinda do Insiders ?\n",
    "    - Qual a expectativa de faturamento desse grupo para os próximos meses ?\n",
    "    - Quais as condições para uma pessoa ser elegível ao Insiders ?\n",
    "    - Quais as condições para uma pessoa ser removida do Insiders ?\n",
    "    - Qual a garantia que o programa Insiders é melhor que o restante da base ?\n",
    "    - Quais ações o time de marketing pode realizar para aumentar o faturamento?"
   ]
  },
  {
   "cell_type": "markdown",
   "metadata": {},
   "source": [
    "## Tasks - Processo"
   ]
  },
  {
   "cell_type": "markdown",
   "metadata": {},
   "source": [
    "1. **Quem são as pessoas elegíveis para participar do programa de Insiders ?**\n",
    "    - O que é ser elegível ? O que é um cliente \"valioso\" para a empresa ?\n",
    "        - Faturamento:\n",
    "            - Alto Ticket Médio\n",
    "            - Alto LTV\n",
    "            - Baixa Recência ou Alta Frequência ( tempo entre as compras )\n",
    "            - Alto Basket Size ( quantidade média de produtos comprados )\n",
    "            - Baixa probabilidade de Churn\n",
    "            - Previsão alta de LTV\n",
    "            - Alta propensão de compra\n",
    "\n",
    "        - Custo:\n",
    "            - Baixo número de devoluções\n",
    "\n",
    "        - Experiência:  \n",
    "            - Média alta de avaliações\n",
    "            \n",
    "            \n",
    "2. **Quantos clientes farão parte do grupo?**\n",
    "    - Número de clientes\n",
    "    - % em relação ao total de clients\n",
    "    \n",
    "    \n",
    "3. **Quais as principais características desses clientes ?**\n",
    "    - Escrever os principais atributos dos clientes\n",
    "        - Idade\n",
    "        - País\n",
    "        - Salário\n",
    "        \n",
    "    - Escrever os principais comportamentos de compra dos clients ( métricas de negócio )\n",
    "        - Vide acima\n",
    "    \n",
    "    \n",
    "4. **Qual a porcentagem de contribuição do faturamento, vinda do Insiders ?**\n",
    "    - Calcular o faturamento total da empresa durante o ano.\n",
    "    - Calcular o faturamento (%) apenas do cluster Insiders.\n",
    "    \n",
    "    \n",
    "5. **Qual a expectativa de faturamento desse grupo para os próximos meses ?**\n",
    "    - Cálculo do LTV do grupo Insiders\n",
    "    - Séries Temporais ( ARMA, ARIMA, HoltWinter, etc )\n",
    "    \n",
    "\n",
    "6. **Quais as condições para uma pessoa ser elegível ao Insiders ?**\n",
    "    - Qual o período de avaliação ?\n",
    "    - O \"desempenho\" do cliente está próximo da média do cluster Insiders. \n",
    "    \n",
    "    \n",
    "7. **Quais as condições para uma pessoa ser removida do Insiders ?**\n",
    "    - O \"desempenho\" do cliente não está mais próximo da média do cluster Insiders. \n",
    "    \n",
    "    \n",
    "8. **Qual a garantia que o programa Insiders é melhor que o restante da base ?**\n",
    "    - Teste de Hipóteses\n",
    "    - Teste A/B\n",
    "    \n",
    "    \n",
    "9. **Quais ações o time de marketing pode realizar para aumentar o faturamento?**\n",
    "    - Descontos\n",
    "    - Preferências de escolha\n",
    "    - Produtos exclusivos"
   ]
  },
  {
   "cell_type": "markdown",
   "metadata": {},
   "source": [
    "# 0.0 Imports"
   ]
  },
  {
   "cell_type": "code",
   "execution_count": 38,
   "metadata": {},
   "outputs": [],
   "source": [
    "import pandas as pd\n",
    "import numpy as np\n",
    "import math\n",
    "import re\n",
    "from IPython.display            import Image, display\n",
    "\n",
    "import inflection\n",
    "from unidecode                  import unidecode\n",
    "\n",
    "import seaborn as sns\n",
    "from matplotlib                 import pyplot as plt \n",
    "from plotly                     import express as px\n",
    "\n",
    "from sklearn                    import cluster as c\n",
    "from sklearn                    import metrics as m \n",
    "from yellowbrick.cluster        import KElbowVisualizer, SilhouetteVisualizer\n",
    "\n",
    "import warnings\n",
    "warnings.filterwarnings(\"ignore\")"
   ]
  },
  {
   "cell_type": "markdown",
   "metadata": {},
   "source": [
    "## 0.1 Helper Function"
   ]
  },
  {
   "cell_type": "code",
   "execution_count": 2,
   "metadata": {},
   "outputs": [],
   "source": [
    "# Função para separar letras e números (filtrando dataset - produtos comprados (b) e cancelados(c))\n",
    "def separar_letras_e_numeros(codigo):\n",
    "    padrao = re.match(r'([A-Za-z]*)(\\d*)', codigo)\n",
    "    \n",
    "    if padrao:\n",
    "        letras = padrao.group(1)\n",
    "        numeros = padrao.group(2)\n",
    "        return letras, numeros\n",
    "    else:\n",
    "        return None, None\n",
    "\n",
    "# -------------------------------------------------------------------------------------------------------\n",
    "# -------------------------------------------------------------------------------------------------------\n",
    "# -------------------------------------------------------------------------------------------------------\n",
    "\n",
    "# Função para encontrar a média em dias, entre as últimas 3 compras do cliente\n",
    "def calculo_rca_media_3(dates_list, max_date):\n",
    "\n",
    "    # Colocando lista em ordem descrescente \n",
    "    sorted_dt_list = sorted(dates_list, reverse=True)\n",
    "    \n",
    "    # Encontrado o intervalo de tempo entre compras, em dias\n",
    "    if len(dates_list) == 1:\n",
    "        c1 = (max_date - sorted_dt_list[0]).days\n",
    "        return c1\n",
    "    \n",
    "    if len(dates_list) == 2:\n",
    "        c1 = (max_date - sorted_dt_list[0]).days\n",
    "        c2 = (sorted_dt_list[0] - sorted_dt_list[1]).days\n",
    "        return (c1+c2) / 2\n",
    "\n",
    "    if len(dates_list) >= 3:\n",
    "        c1 = (max_date - sorted_dt_list[0]).days\n",
    "        c2 = (sorted_dt_list[0] - sorted_dt_list[1]).days\n",
    "        c3 = (sorted_dt_list[1] - sorted_dt_list[2]).days\n",
    "        return (c1+c2+c3) / 3\n",
    "\n",
    "# -------------------------------------------------------------------------------------------------------\n",
    "# -------------------------------------------------------------------------------------------------------\n",
    "# -------------------------------------------------------------------------------------------------------\n",
    "\n",
    "# Função para encontrar a média, em dias, entre a diferença (diff) de todas as datas de compras do cliente\n",
    "def calculo_rca_media_total(dates_list, max_date):\n",
    "\n",
    "    # Colocando as datas em ordem decrescente\n",
    "    sorted_dt_list = sorted(dates_list, reverse=True)\n",
    "\n",
    "    # Inserindo a última data do dataset em primeiro lugar da lista ordenada\n",
    "    sorted_dt_list.insert(0, max_date)\n",
    "\n",
    "    # Calculando a diferença entre cada data\n",
    "    date_diff_list = [(sorted_dt_list[i] - sorted_dt_list[i - 1]).days for i in range(1, len(sorted_dt_list))]\n",
    "    \n",
    "    # Calculando a média de todos os intervalos\n",
    "    media_rca_total = abs( sum(date_diff_list) / len(date_diff_list) )\n",
    "\n",
    "    return media_rca_total\n",
    "\n",
    "\n",
    "\n",
    "# -------------------------------------------------------------------------------------------------------\n",
    "# -------------------------------------------------------------------------------------------------------\n",
    "# -------------------------------------------------------------------------------------------------------\n",
    "\n",
    "# Configurações Gerais\n",
    "pd.set_option('display.max_columns', None)\n",
    "pd.set_option('display.float_format', '{:.2f}'.format)"
   ]
  },
  {
   "cell_type": "markdown",
   "metadata": {},
   "source": [
    "## 0.2 Loading data"
   ]
  },
  {
   "cell_type": "code",
   "execution_count": 3,
   "metadata": {},
   "outputs": [],
   "source": [
    "# Dataset treino\n",
    "df_raw = pd.read_csv('../datasets/raw_datasets/data.csv', low_memory = False, encoding='ISO-8859-1')\n",
    "\n",
    "# Removendo coluna vazia, devido ao csv ter vírgulas no final de cada linha\n",
    "df_raw = df_raw.drop(['Unnamed: 8'], axis=1)"
   ]
  },
  {
   "cell_type": "markdown",
   "metadata": {},
   "source": [
    "# **1.0 Data Description**"
   ]
  },
  {
   "cell_type": "code",
   "execution_count": 4,
   "metadata": {},
   "outputs": [],
   "source": [
    "df1 = df_raw.copy()"
   ]
  },
  {
   "cell_type": "code",
   "execution_count": 5,
   "metadata": {},
   "outputs": [
    {
     "data": {
      "text/html": [
       "<div>\n",
       "<style scoped>\n",
       "    .dataframe tbody tr th:only-of-type {\n",
       "        vertical-align: middle;\n",
       "    }\n",
       "\n",
       "    .dataframe tbody tr th {\n",
       "        vertical-align: top;\n",
       "    }\n",
       "\n",
       "    .dataframe thead th {\n",
       "        text-align: right;\n",
       "    }\n",
       "</style>\n",
       "<table border=\"1\" class=\"dataframe\">\n",
       "  <thead>\n",
       "    <tr style=\"text-align: right;\">\n",
       "      <th></th>\n",
       "      <th>InvoiceNo</th>\n",
       "      <th>StockCode</th>\n",
       "      <th>Description</th>\n",
       "      <th>Quantity</th>\n",
       "      <th>InvoiceDate</th>\n",
       "      <th>UnitPrice</th>\n",
       "      <th>CustomerID</th>\n",
       "      <th>Country</th>\n",
       "    </tr>\n",
       "  </thead>\n",
       "  <tbody>\n",
       "    <tr>\n",
       "      <th>0</th>\n",
       "      <td>536365</td>\n",
       "      <td>85123A</td>\n",
       "      <td>WHITE HANGING HEART T-LIGHT HOLDER</td>\n",
       "      <td>6</td>\n",
       "      <td>29-Nov-16</td>\n",
       "      <td>2.55</td>\n",
       "      <td>17850.00</td>\n",
       "      <td>United Kingdom</td>\n",
       "    </tr>\n",
       "    <tr>\n",
       "      <th>1</th>\n",
       "      <td>536365</td>\n",
       "      <td>71053</td>\n",
       "      <td>WHITE METAL LANTERN</td>\n",
       "      <td>6</td>\n",
       "      <td>29-Nov-16</td>\n",
       "      <td>3.39</td>\n",
       "      <td>17850.00</td>\n",
       "      <td>United Kingdom</td>\n",
       "    </tr>\n",
       "    <tr>\n",
       "      <th>2</th>\n",
       "      <td>536365</td>\n",
       "      <td>84406B</td>\n",
       "      <td>CREAM CUPID HEARTS COAT HANGER</td>\n",
       "      <td>8</td>\n",
       "      <td>29-Nov-16</td>\n",
       "      <td>2.75</td>\n",
       "      <td>17850.00</td>\n",
       "      <td>United Kingdom</td>\n",
       "    </tr>\n",
       "    <tr>\n",
       "      <th>3</th>\n",
       "      <td>536365</td>\n",
       "      <td>84029G</td>\n",
       "      <td>KNITTED UNION FLAG HOT WATER BOTTLE</td>\n",
       "      <td>6</td>\n",
       "      <td>29-Nov-16</td>\n",
       "      <td>3.39</td>\n",
       "      <td>17850.00</td>\n",
       "      <td>United Kingdom</td>\n",
       "    </tr>\n",
       "    <tr>\n",
       "      <th>4</th>\n",
       "      <td>536365</td>\n",
       "      <td>84029E</td>\n",
       "      <td>RED WOOLLY HOTTIE WHITE HEART.</td>\n",
       "      <td>6</td>\n",
       "      <td>29-Nov-16</td>\n",
       "      <td>3.39</td>\n",
       "      <td>17850.00</td>\n",
       "      <td>United Kingdom</td>\n",
       "    </tr>\n",
       "  </tbody>\n",
       "</table>\n",
       "</div>"
      ],
      "text/plain": [
       "  InvoiceNo StockCode                          Description  Quantity  \\\n",
       "0    536365    85123A   WHITE HANGING HEART T-LIGHT HOLDER         6   \n",
       "1    536365     71053                  WHITE METAL LANTERN         6   \n",
       "2    536365    84406B       CREAM CUPID HEARTS COAT HANGER         8   \n",
       "3    536365    84029G  KNITTED UNION FLAG HOT WATER BOTTLE         6   \n",
       "4    536365    84029E       RED WOOLLY HOTTIE WHITE HEART.         6   \n",
       "\n",
       "  InvoiceDate  UnitPrice  CustomerID         Country  \n",
       "0   29-Nov-16       2.55    17850.00  United Kingdom  \n",
       "1   29-Nov-16       3.39    17850.00  United Kingdom  \n",
       "2   29-Nov-16       2.75    17850.00  United Kingdom  \n",
       "3   29-Nov-16       3.39    17850.00  United Kingdom  \n",
       "4   29-Nov-16       3.39    17850.00  United Kingdom  "
      ]
     },
     "execution_count": 5,
     "metadata": {},
     "output_type": "execute_result"
    }
   ],
   "source": [
    "df1.head()"
   ]
  },
  {
   "cell_type": "markdown",
   "metadata": {},
   "source": [
    "## 1.1 Rename Columns"
   ]
  },
  {
   "cell_type": "code",
   "execution_count": 6,
   "metadata": {},
   "outputs": [
    {
     "data": {
      "text/plain": [
       "Index(['invoice_no', 'stock_code', 'description', 'quantity', 'invoice_date',\n",
       "       'unit_price', 'customer_id', 'country'],\n",
       "      dtype='object')"
      ]
     },
     "execution_count": 6,
     "metadata": {},
     "output_type": "execute_result"
    }
   ],
   "source": [
    "# Renomeando as colunas usando a função underscore do inflection\n",
    "df1.columns = [inflection.underscore(col) for col in df1.columns]\n",
    "df1.columns"
   ]
  },
  {
   "cell_type": "markdown",
   "metadata": {},
   "source": [
    "## 1.2 Data Dimension"
   ]
  },
  {
   "cell_type": "code",
   "execution_count": 7,
   "metadata": {},
   "outputs": [
    {
     "name": "stdout",
     "output_type": "stream",
     "text": [
      "Number of Rows: 541909\n",
      "Number of Cols: 8\n"
     ]
    }
   ],
   "source": [
    "# Printando linhas/colunas\n",
    "print('Number of Rows: {}'.format(df1.shape[0]))\n",
    "print('Number of Cols: {}'.format(df1.shape[1]))"
   ]
  },
  {
   "cell_type": "markdown",
   "metadata": {},
   "source": [
    "## 1.3 Data Types"
   ]
  },
  {
   "cell_type": "code",
   "execution_count": 8,
   "metadata": {},
   "outputs": [
    {
     "data": {
      "text/plain": [
       "invoice_no       object\n",
       "stock_code       object\n",
       "description      object\n",
       "quantity          int64\n",
       "invoice_date     object\n",
       "unit_price      float64\n",
       "customer_id     float64\n",
       "country          object\n",
       "dtype: object"
      ]
     },
     "execution_count": 8,
     "metadata": {},
     "output_type": "execute_result"
    }
   ],
   "source": [
    "df1.dtypes"
   ]
  },
  {
   "cell_type": "markdown",
   "metadata": {},
   "source": [
    "## 1.4. Check NA"
   ]
  },
  {
   "cell_type": "code",
   "execution_count": 9,
   "metadata": {},
   "outputs": [
    {
     "data": {
      "text/plain": [
       "invoice_no           0\n",
       "stock_code           0\n",
       "description       1454\n",
       "quantity             0\n",
       "invoice_date         0\n",
       "unit_price           0\n",
       "customer_id     135080\n",
       "country              0\n",
       "dtype: int64"
      ]
     },
     "execution_count": 9,
     "metadata": {},
     "output_type": "execute_result"
    }
   ],
   "source": [
    "'''\n",
    "Existem 3 opções para tratar os NAs\n",
    "\n",
    "1- Descartar linhas com valores ausentes (NA):\n",
    "    Vantagem: rápido e fácil.\n",
    "    Desvantagem (significativa): Pode levar à perda de informações importantes e prejudicar a performance do modelo se o conjunto de dados for pequeno.\n",
    "\n",
    "2- Utilizar algoritmos de Machine Learning:\n",
    "    Existem métodos para preencher valores ausentes (NA) que se baseiam no comportamento das colunas.\n",
    "    Podemos utilizar métodos estatísticos como a média ou mediana, ou algorimos de Machine Learning para prever valores ausentes.\n",
    "    Essa técnica é útil quando não se tem informações de negócio.\n",
    "\n",
    "3- Entender a lógica de negócio:\n",
    "    Compreendendo a lógica de negócio, é possível identificar o motivo dos valores ausentes e estabelecer regras para preenchê-los.  \n",
    "\n",
    "Utilizarei a opção 3 para preencher os valores faltantes (NA) no próximo tópico.\n",
    "'''\n",
    "\n",
    "df1.isna().sum()"
   ]
  },
  {
   "cell_type": "markdown",
   "metadata": {},
   "source": [
    "## 1.5 Fillout NA"
   ]
  },
  {
   "cell_type": "code",
   "execution_count": 10,
   "metadata": {},
   "outputs": [
    {
     "data": {
      "text/plain": [
       "invoice_no      0\n",
       "stock_code      0\n",
       "description     0\n",
       "quantity        0\n",
       "invoice_date    0\n",
       "unit_price      0\n",
       "customer_id     0\n",
       "country         0\n",
       "dtype: int64"
      ]
     },
     "execution_count": 10,
     "metadata": {},
     "output_type": "execute_result"
    }
   ],
   "source": [
    "# Preenchendo os NaN com lógica de negócio\n",
    "\n",
    "# description\n",
    "df1['description'] = df1['description'].fillna('no_description')\n",
    "\n",
    "# customer_id\n",
    "df1 = df1.dropna(subset=['customer_id'])\n",
    "\n",
    "# Verificação da remoção dos NaN\n",
    "df1.isna().sum()"
   ]
  },
  {
   "cell_type": "code",
   "execution_count": 11,
   "metadata": {},
   "outputs": [
    {
     "data": {
      "text/html": [
       "<div>\n",
       "<style scoped>\n",
       "    .dataframe tbody tr th:only-of-type {\n",
       "        vertical-align: middle;\n",
       "    }\n",
       "\n",
       "    .dataframe tbody tr th {\n",
       "        vertical-align: top;\n",
       "    }\n",
       "\n",
       "    .dataframe thead th {\n",
       "        text-align: right;\n",
       "    }\n",
       "</style>\n",
       "<table border=\"1\" class=\"dataframe\">\n",
       "  <thead>\n",
       "    <tr style=\"text-align: right;\">\n",
       "      <th></th>\n",
       "      <th>invoice_no</th>\n",
       "      <th>stock_code</th>\n",
       "      <th>description</th>\n",
       "      <th>quantity</th>\n",
       "      <th>invoice_date</th>\n",
       "      <th>unit_price</th>\n",
       "      <th>customer_id</th>\n",
       "      <th>country</th>\n",
       "    </tr>\n",
       "  </thead>\n",
       "  <tbody>\n",
       "    <tr>\n",
       "      <th>0</th>\n",
       "      <td>536365</td>\n",
       "      <td>85123A</td>\n",
       "      <td>WHITE HANGING HEART T-LIGHT HOLDER</td>\n",
       "      <td>6</td>\n",
       "      <td>29-Nov-16</td>\n",
       "      <td>2.55</td>\n",
       "      <td>17850.00</td>\n",
       "      <td>United Kingdom</td>\n",
       "    </tr>\n",
       "    <tr>\n",
       "      <th>1</th>\n",
       "      <td>536365</td>\n",
       "      <td>71053</td>\n",
       "      <td>WHITE METAL LANTERN</td>\n",
       "      <td>6</td>\n",
       "      <td>29-Nov-16</td>\n",
       "      <td>3.39</td>\n",
       "      <td>17850.00</td>\n",
       "      <td>United Kingdom</td>\n",
       "    </tr>\n",
       "    <tr>\n",
       "      <th>2</th>\n",
       "      <td>536365</td>\n",
       "      <td>84406B</td>\n",
       "      <td>CREAM CUPID HEARTS COAT HANGER</td>\n",
       "      <td>8</td>\n",
       "      <td>29-Nov-16</td>\n",
       "      <td>2.75</td>\n",
       "      <td>17850.00</td>\n",
       "      <td>United Kingdom</td>\n",
       "    </tr>\n",
       "    <tr>\n",
       "      <th>3</th>\n",
       "      <td>536365</td>\n",
       "      <td>84029G</td>\n",
       "      <td>KNITTED UNION FLAG HOT WATER BOTTLE</td>\n",
       "      <td>6</td>\n",
       "      <td>29-Nov-16</td>\n",
       "      <td>3.39</td>\n",
       "      <td>17850.00</td>\n",
       "      <td>United Kingdom</td>\n",
       "    </tr>\n",
       "    <tr>\n",
       "      <th>4</th>\n",
       "      <td>536365</td>\n",
       "      <td>84029E</td>\n",
       "      <td>RED WOOLLY HOTTIE WHITE HEART.</td>\n",
       "      <td>6</td>\n",
       "      <td>29-Nov-16</td>\n",
       "      <td>3.39</td>\n",
       "      <td>17850.00</td>\n",
       "      <td>United Kingdom</td>\n",
       "    </tr>\n",
       "  </tbody>\n",
       "</table>\n",
       "</div>"
      ],
      "text/plain": [
       "  invoice_no stock_code                          description  quantity  \\\n",
       "0     536365     85123A   WHITE HANGING HEART T-LIGHT HOLDER         6   \n",
       "1     536365      71053                  WHITE METAL LANTERN         6   \n",
       "2     536365     84406B       CREAM CUPID HEARTS COAT HANGER         8   \n",
       "3     536365     84029G  KNITTED UNION FLAG HOT WATER BOTTLE         6   \n",
       "4     536365     84029E       RED WOOLLY HOTTIE WHITE HEART.         6   \n",
       "\n",
       "  invoice_date  unit_price  customer_id         country  \n",
       "0    29-Nov-16        2.55     17850.00  United Kingdom  \n",
       "1    29-Nov-16        3.39     17850.00  United Kingdom  \n",
       "2    29-Nov-16        2.75     17850.00  United Kingdom  \n",
       "3    29-Nov-16        3.39     17850.00  United Kingdom  \n",
       "4    29-Nov-16        3.39     17850.00  United Kingdom  "
      ]
     },
     "execution_count": 11,
     "metadata": {},
     "output_type": "execute_result"
    }
   ],
   "source": [
    "df1.head()"
   ]
  },
  {
   "cell_type": "markdown",
   "metadata": {},
   "source": [
    "## 1.6 Change Types"
   ]
  },
  {
   "cell_type": "code",
   "execution_count": 12,
   "metadata": {},
   "outputs": [
    {
     "name": "stderr",
     "output_type": "stream",
     "text": [
      "C:\\Users\\andre\\AppData\\Local\\Temp\\ipykernel_5372\\946814893.py:6: UserWarning: Could not infer format, so each element will be parsed individually, falling back to `dateutil`. To ensure parsing is consistent and as-expected, please specify a format.\n",
      "  df1['invoice_date'] = pd.to_datetime(df1['invoice_date'])\n"
     ]
    },
    {
     "data": {
      "text/plain": [
       "invoice_no              object\n",
       "stock_code              object\n",
       "description             object\n",
       "quantity                 int64\n",
       "invoice_date    datetime64[ns]\n",
       "unit_price             float64\n",
       "customer_id              int32\n",
       "country                 object\n",
       "dtype: object"
      ]
     },
     "execution_count": 12,
     "metadata": {},
     "output_type": "execute_result"
    }
   ],
   "source": [
    "# Verificando os tipos de dados novamente após as alterações feitas no tópico 1.5, por boa prática.  \n",
    "df1.dtypes\n",
    "\n",
    "# Covertendo\n",
    "df1['customer_id'] = df1['customer_id'].astype(int)\n",
    "df1['invoice_date'] = pd.to_datetime(df1['invoice_date'])\n",
    "df1.dtypes"
   ]
  },
  {
   "cell_type": "markdown",
   "metadata": {},
   "source": [
    "O conjunto de dados inclui as seguintes informações:\n",
    "\n",
    "| Coluna                     | Descrição                                           |\n",
    "|----------------------------|-----------------------------------------------------|\n",
    "| Invoice Number             | Identificador único de cada transação.              |\n",
    "| Stock Code Product         | Código do item.                                    |\n",
    "| Description Product        | Nome do item.                                      |\n",
    "| Quantity                   | A quantidade de cada item comprado por transação.  |\n",
    "| Invoice Date               | O dia em que a transação ocorreu.                   |\n",
    "| Unit Price                 | Preço do produto por unidade.                      |\n",
    "| Customer ID                | Identificador único do cliente.                     |\n",
    "| Country                    | O nome do país onde o cliente reside.               |\n",
    "| invoice_date_formatted     | Data formatada (dia/mês/ano).                      |\n",
    "| month                      | Número do mês.                                     |\n"
   ]
  },
  {
   "cell_type": "markdown",
   "metadata": {},
   "source": [
    "## 1.7 Minority Changes (map data)"
   ]
  },
  {
   "cell_type": "code",
   "execution_count": 13,
   "metadata": {},
   "outputs": [],
   "source": [
    "df1 = df1.drop_duplicates()"
   ]
  },
  {
   "cell_type": "markdown",
   "metadata": {},
   "source": [
    "## 1.8 Descritive Statistics"
   ]
  },
  {
   "cell_type": "code",
   "execution_count": 14,
   "metadata": {},
   "outputs": [
    {
     "data": {
      "text/html": [
       "<div>\n",
       "<style scoped>\n",
       "    .dataframe tbody tr th:only-of-type {\n",
       "        vertical-align: middle;\n",
       "    }\n",
       "\n",
       "    .dataframe tbody tr th {\n",
       "        vertical-align: top;\n",
       "    }\n",
       "\n",
       "    .dataframe thead th {\n",
       "        text-align: right;\n",
       "    }\n",
       "</style>\n",
       "<table border=\"1\" class=\"dataframe\">\n",
       "  <thead>\n",
       "    <tr style=\"text-align: right;\">\n",
       "      <th></th>\n",
       "      <th>count</th>\n",
       "      <th>mean</th>\n",
       "      <th>min</th>\n",
       "      <th>25%</th>\n",
       "      <th>50%</th>\n",
       "      <th>75%</th>\n",
       "      <th>max</th>\n",
       "      <th>std</th>\n",
       "    </tr>\n",
       "  </thead>\n",
       "  <tbody>\n",
       "    <tr>\n",
       "      <th>quantity</th>\n",
       "      <td>401603.00</td>\n",
       "      <td>12.18</td>\n",
       "      <td>-80995.00</td>\n",
       "      <td>2.00</td>\n",
       "      <td>5.00</td>\n",
       "      <td>12.00</td>\n",
       "      <td>80995.00</td>\n",
       "      <td>250.28</td>\n",
       "    </tr>\n",
       "    <tr>\n",
       "      <th>invoice_date</th>\n",
       "      <td>401603</td>\n",
       "      <td>2017-07-07 22:53:53.288595712</td>\n",
       "      <td>2016-11-29 00:00:00</td>\n",
       "      <td>2017-04-04 00:00:00</td>\n",
       "      <td>2017-07-27 00:00:00</td>\n",
       "      <td>2017-10-18 00:00:00</td>\n",
       "      <td>2017-12-07 00:00:00</td>\n",
       "      <td>NaN</td>\n",
       "    </tr>\n",
       "    <tr>\n",
       "      <th>unit_price</th>\n",
       "      <td>401603.00</td>\n",
       "      <td>3.47</td>\n",
       "      <td>0.00</td>\n",
       "      <td>1.25</td>\n",
       "      <td>1.95</td>\n",
       "      <td>3.75</td>\n",
       "      <td>38970.00</td>\n",
       "      <td>69.76</td>\n",
       "    </tr>\n",
       "    <tr>\n",
       "      <th>customer_id</th>\n",
       "      <td>401603.00</td>\n",
       "      <td>15281.16</td>\n",
       "      <td>12346.00</td>\n",
       "      <td>13939.00</td>\n",
       "      <td>15145.00</td>\n",
       "      <td>16784.00</td>\n",
       "      <td>18287.00</td>\n",
       "      <td>1714.01</td>\n",
       "    </tr>\n",
       "  </tbody>\n",
       "</table>\n",
       "</div>"
      ],
      "text/plain": [
       "                 count                           mean                  min  \\\n",
       "quantity     401603.00                          12.18            -80995.00   \n",
       "invoice_date    401603  2017-07-07 22:53:53.288595712  2016-11-29 00:00:00   \n",
       "unit_price   401603.00                           3.47                 0.00   \n",
       "customer_id  401603.00                       15281.16             12346.00   \n",
       "\n",
       "                              25%                  50%                  75%  \\\n",
       "quantity                     2.00                 5.00                12.00   \n",
       "invoice_date  2017-04-04 00:00:00  2017-07-27 00:00:00  2017-10-18 00:00:00   \n",
       "unit_price                   1.25                 1.95                 3.75   \n",
       "customer_id              13939.00             15145.00             16784.00   \n",
       "\n",
       "                              max     std  \n",
       "quantity                 80995.00  250.28  \n",
       "invoice_date  2017-12-07 00:00:00     NaN  \n",
       "unit_price               38970.00   69.76  \n",
       "customer_id              18287.00 1714.01  "
      ]
     },
     "execution_count": 14,
     "metadata": {},
     "output_type": "execute_result"
    }
   ],
   "source": [
    "df1.describe().T"
   ]
  },
  {
   "cell_type": "code",
   "execution_count": 15,
   "metadata": {},
   "outputs": [
    {
     "data": {
      "text/html": [
       "<div>\n",
       "<style scoped>\n",
       "    .dataframe tbody tr th:only-of-type {\n",
       "        vertical-align: middle;\n",
       "    }\n",
       "\n",
       "    .dataframe tbody tr th {\n",
       "        vertical-align: top;\n",
       "    }\n",
       "\n",
       "    .dataframe thead th {\n",
       "        text-align: right;\n",
       "    }\n",
       "</style>\n",
       "<table border=\"1\" class=\"dataframe\">\n",
       "  <thead>\n",
       "    <tr style=\"text-align: right;\">\n",
       "      <th></th>\n",
       "      <th>invoice_no</th>\n",
       "      <th>stock_code</th>\n",
       "      <th>description</th>\n",
       "      <th>quantity</th>\n",
       "      <th>invoice_date</th>\n",
       "      <th>unit_price</th>\n",
       "      <th>customer_id</th>\n",
       "      <th>country</th>\n",
       "    </tr>\n",
       "  </thead>\n",
       "  <tbody>\n",
       "    <tr>\n",
       "      <th>540422</th>\n",
       "      <td>C581484</td>\n",
       "      <td>23843</td>\n",
       "      <td>PAPER CRAFT , LITTLE BIRDIE</td>\n",
       "      <td>-80995</td>\n",
       "      <td>2017-12-07</td>\n",
       "      <td>2.08</td>\n",
       "      <td>16446</td>\n",
       "      <td>United Kingdom</td>\n",
       "    </tr>\n",
       "  </tbody>\n",
       "</table>\n",
       "</div>"
      ],
      "text/plain": [
       "       invoice_no stock_code                  description  quantity  \\\n",
       "540422    C581484      23843  PAPER CRAFT , LITTLE BIRDIE    -80995   \n",
       "\n",
       "       invoice_date  unit_price  customer_id         country  \n",
       "540422   2017-12-07        2.08        16446  United Kingdom  "
      ]
     },
     "execution_count": 15,
     "metadata": {},
     "output_type": "execute_result"
    }
   ],
   "source": [
    "df1[df1['quantity'] == 80995]\n",
    "df1[df1['quantity'] == -80995]"
   ]
  },
  {
   "cell_type": "markdown",
   "metadata": {},
   "source": [
    "# **2.0 Feature Engineering**"
   ]
  },
  {
   "cell_type": "code",
   "execution_count": 16,
   "metadata": {},
   "outputs": [],
   "source": [
    "df2 = df1.copy()"
   ]
  },
  {
   "cell_type": "markdown",
   "metadata": {},
   "source": [
    "## 2.1 Faturamento"
   ]
  },
  {
   "cell_type": "code",
   "execution_count": 17,
   "metadata": {},
   "outputs": [],
   "source": [
    "# Faturamento por linha \n",
    "df2['faturamento'] = df2['quantity'] * df2['unit_price']"
   ]
  },
  {
   "cell_type": "markdown",
   "metadata": {},
   "source": [
    "## 2.2 Separando dataset - Comprados(b) Cancelados(c)"
   ]
  },
  {
   "cell_type": "code",
   "execution_count": 18,
   "metadata": {},
   "outputs": [
    {
     "name": "stdout",
     "output_type": "stream",
     "text": [
      "Os cancelamentos representam 2.0% do total de vendas\n"
     ]
    }
   ],
   "source": [
    "# Aplicar a função a cada valor na coluna 'codigo'\n",
    "df2[['invoice_letter', 'invoice_number']] = df2['invoice_no'].apply(lambda x: pd.Series(separar_letras_e_numeros(x)))\n",
    "\n",
    "# Verificando se todos os valores da coluna quantidade são negativos.\n",
    "df2[(df2['invoice_letter'] == 'C') & (df2['quantity'] > 0)].shape[0]\n",
    "\n",
    "# Filtrando dataset\n",
    "# Produtos cancelados \n",
    "df2c = df2[df2['invoice_letter'] == 'C']\n",
    "\n",
    "# Produtos comprados \n",
    "df2b = df2[df2['invoice_letter'] != 'C']\n",
    "\n",
    "# Verificando % de cancelados\n",
    "prct_cancel = round(df2c.shape[0] / df2b.shape[0], 2) * 100\n",
    "print(f'Os cancelamentos representam {prct_cancel}% do total de vendas')"
   ]
  },
  {
   "cell_type": "code",
   "execution_count": 19,
   "metadata": {},
   "outputs": [],
   "source": [
    "# SOBRE TER COMPRADOS NA ANÁLISE MAS FORAM CANCELADOS\n",
    "\n",
    "# df2b.shape[0]\n",
    "# df2c.shape[0]\n",
    "# 392731 - 8872 = 383859\n",
    "\n",
    "# df2.shape[0] - 8872 - 8872 = 383859\n",
    "\n",
    "# aaas = df2b[~df2b['invoice_no'].isin(df2c['invoice_number'])]\n",
    "# aaas.shape[0]\n",
    "# 392731\n",
    "\n",
    "# Pelo visto o numero do chamado de compra e de cancelamento não são os mesmos numeros. então essa lógica não da certo."
   ]
  },
  {
   "cell_type": "markdown",
   "metadata": {},
   "source": [
    "## 2.3 Ticket médio, Valor total das compras, Total de transações (Todos por cliente)"
   ]
  },
  {
   "cell_type": "code",
   "execution_count": 20,
   "metadata": {},
   "outputs": [
    {
     "data": {
      "text/html": [
       "<div>\n",
       "<style scoped>\n",
       "    .dataframe tbody tr th:only-of-type {\n",
       "        vertical-align: middle;\n",
       "    }\n",
       "\n",
       "    .dataframe tbody tr th {\n",
       "        vertical-align: top;\n",
       "    }\n",
       "\n",
       "    .dataframe thead th {\n",
       "        text-align: right;\n",
       "    }\n",
       "</style>\n",
       "<table border=\"1\" class=\"dataframe\">\n",
       "  <thead>\n",
       "    <tr style=\"text-align: right;\">\n",
       "      <th></th>\n",
       "      <th>customer_id</th>\n",
       "      <th>total_valor</th>\n",
       "      <th>total_transacoes</th>\n",
       "      <th>ticket_medio</th>\n",
       "    </tr>\n",
       "  </thead>\n",
       "  <tbody>\n",
       "    <tr>\n",
       "      <th>0</th>\n",
       "      <td>12346</td>\n",
       "      <td>77183.60</td>\n",
       "      <td>1</td>\n",
       "      <td>77183.60</td>\n",
       "    </tr>\n",
       "    <tr>\n",
       "      <th>1</th>\n",
       "      <td>12347</td>\n",
       "      <td>4310.00</td>\n",
       "      <td>7</td>\n",
       "      <td>615.71</td>\n",
       "    </tr>\n",
       "    <tr>\n",
       "      <th>2</th>\n",
       "      <td>12348</td>\n",
       "      <td>1797.24</td>\n",
       "      <td>4</td>\n",
       "      <td>449.31</td>\n",
       "    </tr>\n",
       "    <tr>\n",
       "      <th>3</th>\n",
       "      <td>12349</td>\n",
       "      <td>1757.55</td>\n",
       "      <td>1</td>\n",
       "      <td>1757.55</td>\n",
       "    </tr>\n",
       "    <tr>\n",
       "      <th>4</th>\n",
       "      <td>12350</td>\n",
       "      <td>334.40</td>\n",
       "      <td>1</td>\n",
       "      <td>334.40</td>\n",
       "    </tr>\n",
       "    <tr>\n",
       "      <th>...</th>\n",
       "      <td>...</td>\n",
       "      <td>...</td>\n",
       "      <td>...</td>\n",
       "      <td>...</td>\n",
       "    </tr>\n",
       "    <tr>\n",
       "      <th>4334</th>\n",
       "      <td>18280</td>\n",
       "      <td>180.60</td>\n",
       "      <td>1</td>\n",
       "      <td>180.60</td>\n",
       "    </tr>\n",
       "    <tr>\n",
       "      <th>4335</th>\n",
       "      <td>18281</td>\n",
       "      <td>80.82</td>\n",
       "      <td>1</td>\n",
       "      <td>80.82</td>\n",
       "    </tr>\n",
       "    <tr>\n",
       "      <th>4336</th>\n",
       "      <td>18282</td>\n",
       "      <td>178.05</td>\n",
       "      <td>2</td>\n",
       "      <td>89.03</td>\n",
       "    </tr>\n",
       "    <tr>\n",
       "      <th>4337</th>\n",
       "      <td>18283</td>\n",
       "      <td>2045.53</td>\n",
       "      <td>16</td>\n",
       "      <td>127.85</td>\n",
       "    </tr>\n",
       "    <tr>\n",
       "      <th>4338</th>\n",
       "      <td>18287</td>\n",
       "      <td>1837.28</td>\n",
       "      <td>3</td>\n",
       "      <td>612.43</td>\n",
       "    </tr>\n",
       "  </tbody>\n",
       "</table>\n",
       "<p>4339 rows × 4 columns</p>\n",
       "</div>"
      ],
      "text/plain": [
       "      customer_id  total_valor  total_transacoes  ticket_medio\n",
       "0           12346     77183.60                 1      77183.60\n",
       "1           12347      4310.00                 7        615.71\n",
       "2           12348      1797.24                 4        449.31\n",
       "3           12349      1757.55                 1       1757.55\n",
       "4           12350       334.40                 1        334.40\n",
       "...           ...          ...               ...           ...\n",
       "4334        18280       180.60                 1        180.60\n",
       "4335        18281        80.82                 1         80.82\n",
       "4336        18282       178.05                 2         89.03\n",
       "4337        18283      2045.53                16        127.85\n",
       "4338        18287      1837.28                 3        612.43\n",
       "\n",
       "[4339 rows x 4 columns]"
      ]
     },
     "execution_count": 20,
     "metadata": {},
     "output_type": "execute_result"
    }
   ],
   "source": [
    "# Soma de compras por cliente total de transações por cliente\n",
    "fatur_cliente = df2b.groupby('customer_id').agg({ 'faturamento': 'sum', 'invoice_no':'nunique'}).reset_index()\n",
    "# nunique aqui, pois os invoice_no se repetem devido cada linha do dataset ser um produto, ou seja, ele pode ter feito uma compra mas com vários produtos\n",
    "# então aparecerá vários invoice_no repetidos.\n",
    "\n",
    "# Renomeando colunas\n",
    "fatur_cliente.columns = ['customer_id', 'total_valor', 'total_transacoes']\n",
    "\n",
    "# Encontrando ticket médio\n",
    "fatur_cliente['ticket_medio'] = fatur_cliente['total_valor'] / fatur_cliente['total_transacoes']\n",
    "fatur_cliente"
   ]
  },
  {
   "cell_type": "markdown",
   "metadata": {},
   "source": [
    "## 2.4 Recencias"
   ]
  },
  {
   "cell_type": "markdown",
   "metadata": {},
   "source": [
    "RECÊNCIA em dias, da última compra:"
   ]
  },
  {
   "cell_type": "code",
   "execution_count": 21,
   "metadata": {},
   "outputs": [
    {
     "data": {
      "text/html": [
       "<div>\n",
       "<style scoped>\n",
       "    .dataframe tbody tr th:only-of-type {\n",
       "        vertical-align: middle;\n",
       "    }\n",
       "\n",
       "    .dataframe tbody tr th {\n",
       "        vertical-align: top;\n",
       "    }\n",
       "\n",
       "    .dataframe thead th {\n",
       "        text-align: right;\n",
       "    }\n",
       "</style>\n",
       "<table border=\"1\" class=\"dataframe\">\n",
       "  <thead>\n",
       "    <tr style=\"text-align: right;\">\n",
       "      <th></th>\n",
       "      <th>customer_id</th>\n",
       "      <th>ultima_compra</th>\n",
       "      <th>data_max</th>\n",
       "      <th>recencia_ultima_compra</th>\n",
       "    </tr>\n",
       "  </thead>\n",
       "  <tbody>\n",
       "    <tr>\n",
       "      <th>0</th>\n",
       "      <td>12346</td>\n",
       "      <td>2017-01-16</td>\n",
       "      <td>2017-12-07</td>\n",
       "      <td>325</td>\n",
       "    </tr>\n",
       "    <tr>\n",
       "      <th>1</th>\n",
       "      <td>12347</td>\n",
       "      <td>2017-12-05</td>\n",
       "      <td>2017-12-07</td>\n",
       "      <td>2</td>\n",
       "    </tr>\n",
       "    <tr>\n",
       "      <th>2</th>\n",
       "      <td>12348</td>\n",
       "      <td>2017-09-23</td>\n",
       "      <td>2017-12-07</td>\n",
       "      <td>75</td>\n",
       "    </tr>\n",
       "    <tr>\n",
       "      <th>3</th>\n",
       "      <td>12349</td>\n",
       "      <td>2017-11-19</td>\n",
       "      <td>2017-12-07</td>\n",
       "      <td>18</td>\n",
       "    </tr>\n",
       "    <tr>\n",
       "      <th>4</th>\n",
       "      <td>12350</td>\n",
       "      <td>2017-01-31</td>\n",
       "      <td>2017-12-07</td>\n",
       "      <td>310</td>\n",
       "    </tr>\n",
       "    <tr>\n",
       "      <th>...</th>\n",
       "      <td>...</td>\n",
       "      <td>...</td>\n",
       "      <td>...</td>\n",
       "      <td>...</td>\n",
       "    </tr>\n",
       "    <tr>\n",
       "      <th>4334</th>\n",
       "      <td>18280</td>\n",
       "      <td>2017-03-05</td>\n",
       "      <td>2017-12-07</td>\n",
       "      <td>277</td>\n",
       "    </tr>\n",
       "    <tr>\n",
       "      <th>4335</th>\n",
       "      <td>18281</td>\n",
       "      <td>2017-06-10</td>\n",
       "      <td>2017-12-07</td>\n",
       "      <td>180</td>\n",
       "    </tr>\n",
       "    <tr>\n",
       "      <th>4336</th>\n",
       "      <td>18282</td>\n",
       "      <td>2017-11-30</td>\n",
       "      <td>2017-12-07</td>\n",
       "      <td>7</td>\n",
       "    </tr>\n",
       "    <tr>\n",
       "      <th>4337</th>\n",
       "      <td>18283</td>\n",
       "      <td>2017-12-04</td>\n",
       "      <td>2017-12-07</td>\n",
       "      <td>3</td>\n",
       "    </tr>\n",
       "    <tr>\n",
       "      <th>4338</th>\n",
       "      <td>18287</td>\n",
       "      <td>2017-10-26</td>\n",
       "      <td>2017-12-07</td>\n",
       "      <td>42</td>\n",
       "    </tr>\n",
       "  </tbody>\n",
       "</table>\n",
       "<p>4339 rows × 4 columns</p>\n",
       "</div>"
      ],
      "text/plain": [
       "      customer_id ultima_compra   data_max  recencia_ultima_compra\n",
       "0           12346    2017-01-16 2017-12-07                     325\n",
       "1           12347    2017-12-05 2017-12-07                       2\n",
       "2           12348    2017-09-23 2017-12-07                      75\n",
       "3           12349    2017-11-19 2017-12-07                      18\n",
       "4           12350    2017-01-31 2017-12-07                     310\n",
       "...           ...           ...        ...                     ...\n",
       "4334        18280    2017-03-05 2017-12-07                     277\n",
       "4335        18281    2017-06-10 2017-12-07                     180\n",
       "4336        18282    2017-11-30 2017-12-07                       7\n",
       "4337        18283    2017-12-04 2017-12-07                       3\n",
       "4338        18287    2017-10-26 2017-12-07                      42\n",
       "\n",
       "[4339 rows x 4 columns]"
      ]
     },
     "execution_count": 21,
     "metadata": {},
     "output_type": "execute_result"
    }
   ],
   "source": [
    "# RECÊNCIA em dias, da última compra:\n",
    "\n",
    "# Data da última compra de cada cliente\n",
    "rca_ultima_compra = df2b.loc[:, ['customer_id', 'invoice_date']].groupby('customer_id').max().reset_index()\n",
    "# Renomeando colunas\n",
    "rca_ultima_compra.rename(columns={'invoice_date': 'ultima_compra'}, inplace=True)\n",
    "\n",
    "# Data maxima do dataset df2b inteiro\n",
    "rca_ultima_compra['data_max'] = df2b['invoice_date'].max()\n",
    "# Encontrando em dias, a diferença do ultimo dia de compra do cliente com a data max do dataset\n",
    "rca_ultima_compra['recencia_ultima_compra'] = (rca_ultima_compra['data_max'] - rca_ultima_compra['ultima_compra']).dt.days\n",
    "rca_ultima_compra"
   ]
  },
  {
   "cell_type": "markdown",
   "metadata": {},
   "source": [
    "RECÊNCIA média, em dias, das 3 últimas compras:"
   ]
  },
  {
   "cell_type": "code",
   "execution_count": 22,
   "metadata": {},
   "outputs": [
    {
     "data": {
      "text/html": [
       "<div>\n",
       "<style scoped>\n",
       "    .dataframe tbody tr th:only-of-type {\n",
       "        vertical-align: middle;\n",
       "    }\n",
       "\n",
       "    .dataframe tbody tr th {\n",
       "        vertical-align: top;\n",
       "    }\n",
       "\n",
       "    .dataframe thead th {\n",
       "        text-align: right;\n",
       "    }\n",
       "</style>\n",
       "<table border=\"1\" class=\"dataframe\">\n",
       "  <thead>\n",
       "    <tr style=\"text-align: right;\">\n",
       "      <th></th>\n",
       "      <th>customer_id</th>\n",
       "      <th>unique_invoice_dates</th>\n",
       "      <th>recencia_media_3</th>\n",
       "    </tr>\n",
       "  </thead>\n",
       "  <tbody>\n",
       "    <tr>\n",
       "      <th>0</th>\n",
       "      <td>12346</td>\n",
       "      <td>[2017-01-16 00:00:00]</td>\n",
       "      <td>325.00</td>\n",
       "    </tr>\n",
       "    <tr>\n",
       "      <th>1</th>\n",
       "      <td>12347</td>\n",
       "      <td>[2016-12-05 00:00:00, 2017-06-07 00:00:00, 201...</td>\n",
       "      <td>43.00</td>\n",
       "    </tr>\n",
       "    <tr>\n",
       "      <th>2</th>\n",
       "      <td>12348</td>\n",
       "      <td>[2017-04-03 00:00:00, 2017-01-23 00:00:00, 201...</td>\n",
       "      <td>106.00</td>\n",
       "    </tr>\n",
       "    <tr>\n",
       "      <th>3</th>\n",
       "      <td>12349</td>\n",
       "      <td>[2017-11-19 00:00:00]</td>\n",
       "      <td>18.00</td>\n",
       "    </tr>\n",
       "    <tr>\n",
       "      <th>4</th>\n",
       "      <td>12350</td>\n",
       "      <td>[2017-01-31 00:00:00]</td>\n",
       "      <td>310.00</td>\n",
       "    </tr>\n",
       "    <tr>\n",
       "      <th>...</th>\n",
       "      <td>...</td>\n",
       "      <td>...</td>\n",
       "      <td>...</td>\n",
       "    </tr>\n",
       "    <tr>\n",
       "      <th>4334</th>\n",
       "      <td>18280</td>\n",
       "      <td>[2017-03-05 00:00:00]</td>\n",
       "      <td>277.00</td>\n",
       "    </tr>\n",
       "    <tr>\n",
       "      <th>4335</th>\n",
       "      <td>18281</td>\n",
       "      <td>[2017-06-10 00:00:00]</td>\n",
       "      <td>180.00</td>\n",
       "    </tr>\n",
       "    <tr>\n",
       "      <th>4336</th>\n",
       "      <td>18282</td>\n",
       "      <td>[2017-08-03 00:00:00, 2017-11-30 00:00:00]</td>\n",
       "      <td>63.00</td>\n",
       "    </tr>\n",
       "    <tr>\n",
       "      <th>4337</th>\n",
       "      <td>18283</td>\n",
       "      <td>[2017-06-12 00:00:00, 2017-11-21 00:00:00, 201...</td>\n",
       "      <td>5.33</td>\n",
       "    </tr>\n",
       "    <tr>\n",
       "      <th>4338</th>\n",
       "      <td>18287</td>\n",
       "      <td>[2017-10-26 00:00:00, 2017-05-20 00:00:00, 201...</td>\n",
       "      <td>67.00</td>\n",
       "    </tr>\n",
       "  </tbody>\n",
       "</table>\n",
       "<p>4339 rows × 3 columns</p>\n",
       "</div>"
      ],
      "text/plain": [
       "      customer_id                               unique_invoice_dates  \\\n",
       "0           12346                              [2017-01-16 00:00:00]   \n",
       "1           12347  [2016-12-05 00:00:00, 2017-06-07 00:00:00, 201...   \n",
       "2           12348  [2017-04-03 00:00:00, 2017-01-23 00:00:00, 201...   \n",
       "3           12349                              [2017-11-19 00:00:00]   \n",
       "4           12350                              [2017-01-31 00:00:00]   \n",
       "...           ...                                                ...   \n",
       "4334        18280                              [2017-03-05 00:00:00]   \n",
       "4335        18281                              [2017-06-10 00:00:00]   \n",
       "4336        18282         [2017-08-03 00:00:00, 2017-11-30 00:00:00]   \n",
       "4337        18283  [2017-06-12 00:00:00, 2017-11-21 00:00:00, 201...   \n",
       "4338        18287  [2017-10-26 00:00:00, 2017-05-20 00:00:00, 201...   \n",
       "\n",
       "      recencia_media_3  \n",
       "0               325.00  \n",
       "1                43.00  \n",
       "2               106.00  \n",
       "3                18.00  \n",
       "4               310.00  \n",
       "...                ...  \n",
       "4334            277.00  \n",
       "4335            180.00  \n",
       "4336             63.00  \n",
       "4337              5.33  \n",
       "4338             67.00  \n",
       "\n",
       "[4339 rows x 3 columns]"
      ]
     },
     "execution_count": 22,
     "metadata": {},
     "output_type": "execute_result"
    }
   ],
   "source": [
    "# RECÊNCIA média, em dias, das 3 últimas compras:\n",
    "\n",
    "# Agrupando todos os chamados de cada cliente e utilizando o set para pegar apenas uma data unica, estava\n",
    "# repetindo as datas, pois cada linha do dataset é um produto, se o cliente comprou mais de um produto no \n",
    "# mesmo dia resultava em várias datas iguais na coluna invoice_date com código de transação invoice_no repetido\n",
    "rca_media_3 = df2b.groupby('customer_id')['invoice_date'].agg(lambda x: list(set(x))).reset_index()\n",
    "rca_media_3.columns = ['customer_id', 'unique_invoice_dates']\n",
    "rca_media_3\n",
    "\n",
    "# Data maxima do dataset df2b inteiro\n",
    "max_date = df2b['invoice_date'].max()\n",
    "# Encontrando em dias, a diferença dos 3 últimos dias de compra do cliente com a data max do dataset\n",
    "rca_media_3['recencia_media_3'] = rca_media_3['unique_invoice_dates'].apply(calculo_rca_media_3, args=(max_date,))\n",
    "rca_media_3"
   ]
  },
  {
   "cell_type": "markdown",
   "metadata": {},
   "source": [
    "RECÊNCIA média, em dias, de todas as compras:"
   ]
  },
  {
   "cell_type": "code",
   "execution_count": 23,
   "metadata": {},
   "outputs": [
    {
     "data": {
      "text/html": [
       "<div>\n",
       "<style scoped>\n",
       "    .dataframe tbody tr th:only-of-type {\n",
       "        vertical-align: middle;\n",
       "    }\n",
       "\n",
       "    .dataframe tbody tr th {\n",
       "        vertical-align: top;\n",
       "    }\n",
       "\n",
       "    .dataframe thead th {\n",
       "        text-align: right;\n",
       "    }\n",
       "</style>\n",
       "<table border=\"1\" class=\"dataframe\">\n",
       "  <thead>\n",
       "    <tr style=\"text-align: right;\">\n",
       "      <th></th>\n",
       "      <th>customer_id</th>\n",
       "      <th>unique_invoice_dates</th>\n",
       "      <th>rencencia_media_total</th>\n",
       "    </tr>\n",
       "  </thead>\n",
       "  <tbody>\n",
       "    <tr>\n",
       "      <th>0</th>\n",
       "      <td>12346</td>\n",
       "      <td>[2017-01-16 00:00:00]</td>\n",
       "      <td>325.00</td>\n",
       "    </tr>\n",
       "    <tr>\n",
       "      <th>1</th>\n",
       "      <td>12347</td>\n",
       "      <td>[2016-12-05 00:00:00, 2017-06-07 00:00:00, 201...</td>\n",
       "      <td>52.43</td>\n",
       "    </tr>\n",
       "    <tr>\n",
       "      <th>2</th>\n",
       "      <td>12348</td>\n",
       "      <td>[2017-04-03 00:00:00, 2017-01-23 00:00:00, 201...</td>\n",
       "      <td>89.50</td>\n",
       "    </tr>\n",
       "    <tr>\n",
       "      <th>3</th>\n",
       "      <td>12349</td>\n",
       "      <td>[2017-11-19 00:00:00]</td>\n",
       "      <td>18.00</td>\n",
       "    </tr>\n",
       "    <tr>\n",
       "      <th>4</th>\n",
       "      <td>12350</td>\n",
       "      <td>[2017-01-31 00:00:00]</td>\n",
       "      <td>310.00</td>\n",
       "    </tr>\n",
       "    <tr>\n",
       "      <th>...</th>\n",
       "      <td>...</td>\n",
       "      <td>...</td>\n",
       "      <td>...</td>\n",
       "    </tr>\n",
       "    <tr>\n",
       "      <th>4334</th>\n",
       "      <td>18280</td>\n",
       "      <td>[2017-03-05 00:00:00]</td>\n",
       "      <td>277.00</td>\n",
       "    </tr>\n",
       "    <tr>\n",
       "      <th>4335</th>\n",
       "      <td>18281</td>\n",
       "      <td>[2017-06-10 00:00:00]</td>\n",
       "      <td>180.00</td>\n",
       "    </tr>\n",
       "    <tr>\n",
       "      <th>4336</th>\n",
       "      <td>18282</td>\n",
       "      <td>[2017-08-03 00:00:00, 2017-11-30 00:00:00]</td>\n",
       "      <td>63.00</td>\n",
       "    </tr>\n",
       "    <tr>\n",
       "      <th>4337</th>\n",
       "      <td>18283</td>\n",
       "      <td>[2017-06-12 00:00:00, 2017-11-21 00:00:00, 201...</td>\n",
       "      <td>24.07</td>\n",
       "    </tr>\n",
       "    <tr>\n",
       "      <th>4338</th>\n",
       "      <td>18287</td>\n",
       "      <td>[2017-10-26 00:00:00, 2017-05-20 00:00:00, 201...</td>\n",
       "      <td>67.00</td>\n",
       "    </tr>\n",
       "  </tbody>\n",
       "</table>\n",
       "<p>4339 rows × 3 columns</p>\n",
       "</div>"
      ],
      "text/plain": [
       "      customer_id                               unique_invoice_dates  \\\n",
       "0           12346                              [2017-01-16 00:00:00]   \n",
       "1           12347  [2016-12-05 00:00:00, 2017-06-07 00:00:00, 201...   \n",
       "2           12348  [2017-04-03 00:00:00, 2017-01-23 00:00:00, 201...   \n",
       "3           12349                              [2017-11-19 00:00:00]   \n",
       "4           12350                              [2017-01-31 00:00:00]   \n",
       "...           ...                                                ...   \n",
       "4334        18280                              [2017-03-05 00:00:00]   \n",
       "4335        18281                              [2017-06-10 00:00:00]   \n",
       "4336        18282         [2017-08-03 00:00:00, 2017-11-30 00:00:00]   \n",
       "4337        18283  [2017-06-12 00:00:00, 2017-11-21 00:00:00, 201...   \n",
       "4338        18287  [2017-10-26 00:00:00, 2017-05-20 00:00:00, 201...   \n",
       "\n",
       "      rencencia_media_total  \n",
       "0                    325.00  \n",
       "1                     52.43  \n",
       "2                     89.50  \n",
       "3                     18.00  \n",
       "4                    310.00  \n",
       "...                     ...  \n",
       "4334                 277.00  \n",
       "4335                 180.00  \n",
       "4336                  63.00  \n",
       "4337                  24.07  \n",
       "4338                  67.00  \n",
       "\n",
       "[4339 rows x 3 columns]"
      ]
     },
     "execution_count": 23,
     "metadata": {},
     "output_type": "execute_result"
    }
   ],
   "source": [
    "# RECÊNCIA média, em dias, de todas as compras:\n",
    "\n",
    "# Agrupando todos os chamados de cada cliente e utilizando o set para pegar apenas uma data unica, estava\n",
    "# repetindo as datas, pois cada linha do dataset é um produto, se o cliente comprou mais de um produto no \n",
    "# mesmo dia resultava em várias datas iguais na coluna invoice_date com código de transação invoice_no repetido\n",
    "rca_total_media = df2b.groupby('customer_id')['invoice_date'].agg(lambda x: list(set(x))).reset_index()\n",
    "\n",
    "# Renomeando colunas\n",
    "rca_total_media.columns = ['customer_id', 'unique_invoice_dates']\n",
    "\n",
    "# Recencia Média em dias das 3 ultimas compras de cada cliente\n",
    "max_date = df2b['invoice_date'].max()\n",
    "rca_total_media['rencencia_media_total'] = rca_total_media['unique_invoice_dates'].apply(calculo_rca_media_total, args=(max_date,))\n",
    "rca_total_media"
   ]
  },
  {
   "cell_type": "markdown",
   "metadata": {},
   "source": [
    "## 2.5 Cancelamentos por cliente"
   ]
  },
  {
   "cell_type": "code",
   "execution_count": 24,
   "metadata": {},
   "outputs": [
    {
     "data": {
      "text/html": [
       "<div>\n",
       "<style scoped>\n",
       "    .dataframe tbody tr th:only-of-type {\n",
       "        vertical-align: middle;\n",
       "    }\n",
       "\n",
       "    .dataframe tbody tr th {\n",
       "        vertical-align: top;\n",
       "    }\n",
       "\n",
       "    .dataframe thead th {\n",
       "        text-align: right;\n",
       "    }\n",
       "</style>\n",
       "<table border=\"1\" class=\"dataframe\">\n",
       "  <thead>\n",
       "    <tr style=\"text-align: right;\">\n",
       "      <th></th>\n",
       "      <th>customer_id</th>\n",
       "      <th>qnt_cancel</th>\n",
       "    </tr>\n",
       "  </thead>\n",
       "  <tbody>\n",
       "    <tr>\n",
       "      <th>0</th>\n",
       "      <td>12346</td>\n",
       "      <td>1</td>\n",
       "    </tr>\n",
       "    <tr>\n",
       "      <th>1</th>\n",
       "      <td>12352</td>\n",
       "      <td>3</td>\n",
       "    </tr>\n",
       "    <tr>\n",
       "      <th>2</th>\n",
       "      <td>12359</td>\n",
       "      <td>2</td>\n",
       "    </tr>\n",
       "    <tr>\n",
       "      <th>3</th>\n",
       "      <td>12362</td>\n",
       "      <td>3</td>\n",
       "    </tr>\n",
       "    <tr>\n",
       "      <th>4</th>\n",
       "      <td>12365</td>\n",
       "      <td>1</td>\n",
       "    </tr>\n",
       "    <tr>\n",
       "      <th>...</th>\n",
       "      <td>...</td>\n",
       "      <td>...</td>\n",
       "    </tr>\n",
       "    <tr>\n",
       "      <th>1584</th>\n",
       "      <td>18272</td>\n",
       "      <td>1</td>\n",
       "    </tr>\n",
       "    <tr>\n",
       "      <th>1585</th>\n",
       "      <td>18274</td>\n",
       "      <td>1</td>\n",
       "    </tr>\n",
       "    <tr>\n",
       "      <th>1586</th>\n",
       "      <td>18276</td>\n",
       "      <td>2</td>\n",
       "    </tr>\n",
       "    <tr>\n",
       "      <th>1587</th>\n",
       "      <td>18277</td>\n",
       "      <td>1</td>\n",
       "    </tr>\n",
       "    <tr>\n",
       "      <th>1588</th>\n",
       "      <td>18282</td>\n",
       "      <td>1</td>\n",
       "    </tr>\n",
       "  </tbody>\n",
       "</table>\n",
       "<p>1589 rows × 2 columns</p>\n",
       "</div>"
      ],
      "text/plain": [
       "      customer_id  qnt_cancel\n",
       "0           12346           1\n",
       "1           12352           3\n",
       "2           12359           2\n",
       "3           12362           3\n",
       "4           12365           1\n",
       "...           ...         ...\n",
       "1584        18272           1\n",
       "1585        18274           1\n",
       "1586        18276           2\n",
       "1587        18277           1\n",
       "1588        18282           1\n",
       "\n",
       "[1589 rows x 2 columns]"
      ]
     },
     "execution_count": 24,
     "metadata": {},
     "output_type": "execute_result"
    }
   ],
   "source": [
    "total_c = df2c.loc[:, ['customer_id', 'invoice_no']].groupby('customer_id').nunique().reset_index()\n",
    "total_c.columns = ['customer_id', 'qnt_cancel']\n",
    "total_c"
   ]
  },
  {
   "cell_type": "markdown",
   "metadata": {},
   "source": [
    "## 2.6 Merging datasets"
   ]
  },
  {
   "cell_type": "code",
   "execution_count": 25,
   "metadata": {},
   "outputs": [
    {
     "data": {
      "text/html": [
       "<div>\n",
       "<style scoped>\n",
       "    .dataframe tbody tr th:only-of-type {\n",
       "        vertical-align: middle;\n",
       "    }\n",
       "\n",
       "    .dataframe tbody tr th {\n",
       "        vertical-align: top;\n",
       "    }\n",
       "\n",
       "    .dataframe thead th {\n",
       "        text-align: right;\n",
       "    }\n",
       "</style>\n",
       "<table border=\"1\" class=\"dataframe\">\n",
       "  <thead>\n",
       "    <tr style=\"text-align: right;\">\n",
       "      <th></th>\n",
       "      <th>customer_id</th>\n",
       "      <th>total_valor</th>\n",
       "      <th>total_transacoes</th>\n",
       "      <th>ticket_medio</th>\n",
       "      <th>recencia_ultima_compra</th>\n",
       "      <th>recencia_media_3</th>\n",
       "      <th>rencencia_media_total</th>\n",
       "      <th>qnt_cancel</th>\n",
       "    </tr>\n",
       "  </thead>\n",
       "  <tbody>\n",
       "    <tr>\n",
       "      <th>0</th>\n",
       "      <td>12346</td>\n",
       "      <td>77183.60</td>\n",
       "      <td>1</td>\n",
       "      <td>77183.60</td>\n",
       "      <td>325</td>\n",
       "      <td>325.00</td>\n",
       "      <td>325.00</td>\n",
       "      <td>1.00</td>\n",
       "    </tr>\n",
       "    <tr>\n",
       "      <th>1</th>\n",
       "      <td>12347</td>\n",
       "      <td>4310.00</td>\n",
       "      <td>7</td>\n",
       "      <td>615.71</td>\n",
       "      <td>2</td>\n",
       "      <td>43.00</td>\n",
       "      <td>52.43</td>\n",
       "      <td>0.00</td>\n",
       "    </tr>\n",
       "    <tr>\n",
       "      <th>2</th>\n",
       "      <td>12348</td>\n",
       "      <td>1797.24</td>\n",
       "      <td>4</td>\n",
       "      <td>449.31</td>\n",
       "      <td>75</td>\n",
       "      <td>106.00</td>\n",
       "      <td>89.50</td>\n",
       "      <td>0.00</td>\n",
       "    </tr>\n",
       "    <tr>\n",
       "      <th>3</th>\n",
       "      <td>12349</td>\n",
       "      <td>1757.55</td>\n",
       "      <td>1</td>\n",
       "      <td>1757.55</td>\n",
       "      <td>18</td>\n",
       "      <td>18.00</td>\n",
       "      <td>18.00</td>\n",
       "      <td>0.00</td>\n",
       "    </tr>\n",
       "    <tr>\n",
       "      <th>4</th>\n",
       "      <td>12350</td>\n",
       "      <td>334.40</td>\n",
       "      <td>1</td>\n",
       "      <td>334.40</td>\n",
       "      <td>310</td>\n",
       "      <td>310.00</td>\n",
       "      <td>310.00</td>\n",
       "      <td>0.00</td>\n",
       "    </tr>\n",
       "    <tr>\n",
       "      <th>...</th>\n",
       "      <td>...</td>\n",
       "      <td>...</td>\n",
       "      <td>...</td>\n",
       "      <td>...</td>\n",
       "      <td>...</td>\n",
       "      <td>...</td>\n",
       "      <td>...</td>\n",
       "      <td>...</td>\n",
       "    </tr>\n",
       "    <tr>\n",
       "      <th>4334</th>\n",
       "      <td>18280</td>\n",
       "      <td>180.60</td>\n",
       "      <td>1</td>\n",
       "      <td>180.60</td>\n",
       "      <td>277</td>\n",
       "      <td>277.00</td>\n",
       "      <td>277.00</td>\n",
       "      <td>0.00</td>\n",
       "    </tr>\n",
       "    <tr>\n",
       "      <th>4335</th>\n",
       "      <td>18281</td>\n",
       "      <td>80.82</td>\n",
       "      <td>1</td>\n",
       "      <td>80.82</td>\n",
       "      <td>180</td>\n",
       "      <td>180.00</td>\n",
       "      <td>180.00</td>\n",
       "      <td>0.00</td>\n",
       "    </tr>\n",
       "    <tr>\n",
       "      <th>4336</th>\n",
       "      <td>18282</td>\n",
       "      <td>178.05</td>\n",
       "      <td>2</td>\n",
       "      <td>89.03</td>\n",
       "      <td>7</td>\n",
       "      <td>63.00</td>\n",
       "      <td>63.00</td>\n",
       "      <td>1.00</td>\n",
       "    </tr>\n",
       "    <tr>\n",
       "      <th>4337</th>\n",
       "      <td>18283</td>\n",
       "      <td>2045.53</td>\n",
       "      <td>16</td>\n",
       "      <td>127.85</td>\n",
       "      <td>3</td>\n",
       "      <td>5.33</td>\n",
       "      <td>24.07</td>\n",
       "      <td>0.00</td>\n",
       "    </tr>\n",
       "    <tr>\n",
       "      <th>4338</th>\n",
       "      <td>18287</td>\n",
       "      <td>1837.28</td>\n",
       "      <td>3</td>\n",
       "      <td>612.43</td>\n",
       "      <td>42</td>\n",
       "      <td>67.00</td>\n",
       "      <td>67.00</td>\n",
       "      <td>0.00</td>\n",
       "    </tr>\n",
       "  </tbody>\n",
       "</table>\n",
       "<p>4339 rows × 8 columns</p>\n",
       "</div>"
      ],
      "text/plain": [
       "      customer_id  total_valor  total_transacoes  ticket_medio  \\\n",
       "0           12346     77183.60                 1      77183.60   \n",
       "1           12347      4310.00                 7        615.71   \n",
       "2           12348      1797.24                 4        449.31   \n",
       "3           12349      1757.55                 1       1757.55   \n",
       "4           12350       334.40                 1        334.40   \n",
       "...           ...          ...               ...           ...   \n",
       "4334        18280       180.60                 1        180.60   \n",
       "4335        18281        80.82                 1         80.82   \n",
       "4336        18282       178.05                 2         89.03   \n",
       "4337        18283      2045.53                16        127.85   \n",
       "4338        18287      1837.28                 3        612.43   \n",
       "\n",
       "      recencia_ultima_compra  recencia_media_3  rencencia_media_total  \\\n",
       "0                        325            325.00                 325.00   \n",
       "1                          2             43.00                  52.43   \n",
       "2                         75            106.00                  89.50   \n",
       "3                         18             18.00                  18.00   \n",
       "4                        310            310.00                 310.00   \n",
       "...                      ...               ...                    ...   \n",
       "4334                     277            277.00                 277.00   \n",
       "4335                     180            180.00                 180.00   \n",
       "4336                       7             63.00                  63.00   \n",
       "4337                       3              5.33                  24.07   \n",
       "4338                      42             67.00                  67.00   \n",
       "\n",
       "      qnt_cancel  \n",
       "0           1.00  \n",
       "1           0.00  \n",
       "2           0.00  \n",
       "3           0.00  \n",
       "4           0.00  \n",
       "...          ...  \n",
       "4334        0.00  \n",
       "4335        0.00  \n",
       "4336        1.00  \n",
       "4337        0.00  \n",
       "4338        0.00  \n",
       "\n",
       "[4339 rows x 8 columns]"
      ]
     },
     "execution_count": 25,
     "metadata": {},
     "output_type": "execute_result"
    }
   ],
   "source": [
    "# Dropando colunas desnecessárias para o merge\n",
    "rca_ultima_compra = rca_ultima_compra.drop(['ultima_compra', 'data_max'], axis=1)\n",
    "rca_media_3 = rca_media_3.drop(['unique_invoice_dates'], axis=1)\n",
    "rca_total_media = rca_total_media.drop(['unique_invoice_dates'], axis=1)\n",
    "\n",
    "# Merging \n",
    "df2_merged = pd.merge(fatur_cliente, rca_ultima_compra, on='customer_id', how='left')\n",
    "df2_merged = pd.merge(df2_merged, rca_media_3, on='customer_id', how='left')\n",
    "df2_merged = pd.merge(df2_merged, rca_total_media, on='customer_id', how='left')\n",
    "df2_merged = pd.merge(df2_merged, total_c, on='customer_id', how='left').fillna(0)\n",
    "df2_merged"
   ]
  },
  {
   "cell_type": "markdown",
   "metadata": {},
   "source": [
    "## 2.7 Ajustando features"
   ]
  },
  {
   "cell_type": "code",
   "execution_count": 26,
   "metadata": {},
   "outputs": [
    {
     "name": "stderr",
     "output_type": "stream",
     "text": [
      "C:\\Users\\andre\\AppData\\Local\\Temp\\ipykernel_5372\\614776471.py:5: FutureWarning: DataFrame.applymap has been deprecated. Use DataFrame.map instead.\n",
      "  df2_merged[colunas_inverter] = df2_merged[colunas_inverter].applymap(lambda x: 1/x if x != 0 else 0)\n"
     ]
    },
    {
     "data": {
      "text/html": [
       "<div>\n",
       "<style scoped>\n",
       "    .dataframe tbody tr th:only-of-type {\n",
       "        vertical-align: middle;\n",
       "    }\n",
       "\n",
       "    .dataframe tbody tr th {\n",
       "        vertical-align: top;\n",
       "    }\n",
       "\n",
       "    .dataframe thead th {\n",
       "        text-align: right;\n",
       "    }\n",
       "</style>\n",
       "<table border=\"1\" class=\"dataframe\">\n",
       "  <thead>\n",
       "    <tr style=\"text-align: right;\">\n",
       "      <th></th>\n",
       "      <th>customer_id</th>\n",
       "      <th>total_valor</th>\n",
       "      <th>total_transacoes</th>\n",
       "      <th>ticket_medio</th>\n",
       "      <th>recencia_ultima_compra</th>\n",
       "      <th>recencia_media_3</th>\n",
       "      <th>rencencia_media_total</th>\n",
       "      <th>qnt_cancel</th>\n",
       "    </tr>\n",
       "  </thead>\n",
       "  <tbody>\n",
       "    <tr>\n",
       "      <th>0</th>\n",
       "      <td>12346</td>\n",
       "      <td>77183.60</td>\n",
       "      <td>1</td>\n",
       "      <td>77183.60</td>\n",
       "      <td>0.00</td>\n",
       "      <td>0.00</td>\n",
       "      <td>0.00</td>\n",
       "      <td>1.00</td>\n",
       "    </tr>\n",
       "    <tr>\n",
       "      <th>1</th>\n",
       "      <td>12347</td>\n",
       "      <td>4310.00</td>\n",
       "      <td>7</td>\n",
       "      <td>615.71</td>\n",
       "      <td>0.50</td>\n",
       "      <td>0.02</td>\n",
       "      <td>0.02</td>\n",
       "      <td>0.00</td>\n",
       "    </tr>\n",
       "    <tr>\n",
       "      <th>2</th>\n",
       "      <td>12348</td>\n",
       "      <td>1797.24</td>\n",
       "      <td>4</td>\n",
       "      <td>449.31</td>\n",
       "      <td>0.01</td>\n",
       "      <td>0.01</td>\n",
       "      <td>0.01</td>\n",
       "      <td>0.00</td>\n",
       "    </tr>\n",
       "    <tr>\n",
       "      <th>3</th>\n",
       "      <td>12349</td>\n",
       "      <td>1757.55</td>\n",
       "      <td>1</td>\n",
       "      <td>1757.55</td>\n",
       "      <td>0.06</td>\n",
       "      <td>0.06</td>\n",
       "      <td>0.06</td>\n",
       "      <td>0.00</td>\n",
       "    </tr>\n",
       "    <tr>\n",
       "      <th>4</th>\n",
       "      <td>12350</td>\n",
       "      <td>334.40</td>\n",
       "      <td>1</td>\n",
       "      <td>334.40</td>\n",
       "      <td>0.00</td>\n",
       "      <td>0.00</td>\n",
       "      <td>0.00</td>\n",
       "      <td>0.00</td>\n",
       "    </tr>\n",
       "    <tr>\n",
       "      <th>...</th>\n",
       "      <td>...</td>\n",
       "      <td>...</td>\n",
       "      <td>...</td>\n",
       "      <td>...</td>\n",
       "      <td>...</td>\n",
       "      <td>...</td>\n",
       "      <td>...</td>\n",
       "      <td>...</td>\n",
       "    </tr>\n",
       "    <tr>\n",
       "      <th>4334</th>\n",
       "      <td>18280</td>\n",
       "      <td>180.60</td>\n",
       "      <td>1</td>\n",
       "      <td>180.60</td>\n",
       "      <td>0.00</td>\n",
       "      <td>0.00</td>\n",
       "      <td>0.00</td>\n",
       "      <td>0.00</td>\n",
       "    </tr>\n",
       "    <tr>\n",
       "      <th>4335</th>\n",
       "      <td>18281</td>\n",
       "      <td>80.82</td>\n",
       "      <td>1</td>\n",
       "      <td>80.82</td>\n",
       "      <td>0.01</td>\n",
       "      <td>0.01</td>\n",
       "      <td>0.01</td>\n",
       "      <td>0.00</td>\n",
       "    </tr>\n",
       "    <tr>\n",
       "      <th>4336</th>\n",
       "      <td>18282</td>\n",
       "      <td>178.05</td>\n",
       "      <td>2</td>\n",
       "      <td>89.03</td>\n",
       "      <td>0.14</td>\n",
       "      <td>0.02</td>\n",
       "      <td>0.02</td>\n",
       "      <td>1.00</td>\n",
       "    </tr>\n",
       "    <tr>\n",
       "      <th>4337</th>\n",
       "      <td>18283</td>\n",
       "      <td>2045.53</td>\n",
       "      <td>16</td>\n",
       "      <td>127.85</td>\n",
       "      <td>0.33</td>\n",
       "      <td>0.19</td>\n",
       "      <td>0.04</td>\n",
       "      <td>0.00</td>\n",
       "    </tr>\n",
       "    <tr>\n",
       "      <th>4338</th>\n",
       "      <td>18287</td>\n",
       "      <td>1837.28</td>\n",
       "      <td>3</td>\n",
       "      <td>612.43</td>\n",
       "      <td>0.02</td>\n",
       "      <td>0.01</td>\n",
       "      <td>0.01</td>\n",
       "      <td>0.00</td>\n",
       "    </tr>\n",
       "  </tbody>\n",
       "</table>\n",
       "<p>4339 rows × 8 columns</p>\n",
       "</div>"
      ],
      "text/plain": [
       "      customer_id  total_valor  total_transacoes  ticket_medio  \\\n",
       "0           12346     77183.60                 1      77183.60   \n",
       "1           12347      4310.00                 7        615.71   \n",
       "2           12348      1797.24                 4        449.31   \n",
       "3           12349      1757.55                 1       1757.55   \n",
       "4           12350       334.40                 1        334.40   \n",
       "...           ...          ...               ...           ...   \n",
       "4334        18280       180.60                 1        180.60   \n",
       "4335        18281        80.82                 1         80.82   \n",
       "4336        18282       178.05                 2         89.03   \n",
       "4337        18283      2045.53                16        127.85   \n",
       "4338        18287      1837.28                 3        612.43   \n",
       "\n",
       "      recencia_ultima_compra  recencia_media_3  rencencia_media_total  \\\n",
       "0                       0.00              0.00                   0.00   \n",
       "1                       0.50              0.02                   0.02   \n",
       "2                       0.01              0.01                   0.01   \n",
       "3                       0.06              0.06                   0.06   \n",
       "4                       0.00              0.00                   0.00   \n",
       "...                      ...               ...                    ...   \n",
       "4334                    0.00              0.00                   0.00   \n",
       "4335                    0.01              0.01                   0.01   \n",
       "4336                    0.14              0.02                   0.02   \n",
       "4337                    0.33              0.19                   0.04   \n",
       "4338                    0.02              0.01                   0.01   \n",
       "\n",
       "      qnt_cancel  \n",
       "0           1.00  \n",
       "1           0.00  \n",
       "2           0.00  \n",
       "3           0.00  \n",
       "4           0.00  \n",
       "...          ...  \n",
       "4334        0.00  \n",
       "4335        0.00  \n",
       "4336        1.00  \n",
       "4337        0.00  \n",
       "4338        0.00  \n",
       "\n",
       "[4339 rows x 8 columns]"
      ]
     },
     "execution_count": 26,
     "metadata": {},
     "output_type": "execute_result"
    }
   ],
   "source": [
    "# Colunas para inverter (ou elevadas a -1) para que, por exemplo, quanto mais cancelamentos, ter um peso menor do que maior.\n",
    "colunas_inverter = ['recencia_ultima_compra', 'recencia_media_3', 'rencencia_media_total', 'qnt_cancel']\n",
    "\n",
    "# Aplica a função lambda a todas as colunas especificadas\n",
    "df2_merged[colunas_inverter] = df2_merged[colunas_inverter].applymap(lambda x: 1/x if x != 0 else 0)\n",
    "df2_merged"
   ]
  },
  {
   "cell_type": "markdown",
   "metadata": {},
   "source": [
    "# **3.0 Hyperparameter Fine-Tuning**"
   ]
  },
  {
   "cell_type": "markdown",
   "metadata": {},
   "source": [
    "Em problemas de clusterização, o número de clusters precisa ser fornecido ao algoritmo previamente. Por isso primeiro fazemos o fine-tunning para encontrar o número ideal de clusters."
   ]
  },
  {
   "cell_type": "code",
   "execution_count": 27,
   "metadata": {},
   "outputs": [],
   "source": [
    "df3 = df2_merged.copy()"
   ]
  },
  {
   "cell_type": "code",
   "execution_count": 29,
   "metadata": {},
   "outputs": [],
   "source": [
    "X = df3.drop(columns=['customer_id'])"
   ]
  },
  {
   "cell_type": "code",
   "execution_count": 30,
   "metadata": {},
   "outputs": [],
   "source": [
    "clusters = np.arange(2, 10, 1)"
   ]
  },
  {
   "cell_type": "markdown",
   "metadata": {},
   "source": [
    "## 3.1 Within-Cluster Sum of Square (WSS)"
   ]
  },
  {
   "cell_type": "code",
   "execution_count": 36,
   "metadata": {},
   "outputs": [
    {
     "data": {
      "image/png": "[encoded data removed]",
      "text/plain": [
       "<Figure size 800x550 with 1 Axes>"
      ]
     },
     "metadata": {},
     "output_type": "display_data"
    },
    {
     "data": {
      "text/plain": [
       "<Axes: title={'center': 'Distortion Score Elbow for KMeans Clustering'}, xlabel='k', ylabel='distortion score'>"
      ]
     },
     "execution_count": 36,
     "metadata": {},
     "output_type": "execute_result"
    }
   ],
   "source": [
    "kmeans = KElbowVisualizer(c.KMeans(), k=clusters, timings=False)\n",
    "kmeans.fit(X)\n",
    "kmeans.show()"
   ]
  },
  {
   "cell_type": "markdown",
   "metadata": {},
   "source": [
    "## 3.2 Silhouette Score"
   ]
  },
  {
   "cell_type": "code",
   "execution_count": 37,
   "metadata": {},
   "outputs": [
    {
     "data": {
      "image/png": "[encoded data removed]",
      "text/plain": [
       "<Figure size 800x550 with 1 Axes>"
      ]
     },
     "metadata": {},
     "output_type": "display_data"
    },
    {
     "data": {
      "text/plain": [
       "<Axes: title={'center': 'Silhouette Score Elbow for KMeans Clustering'}, xlabel='k', ylabel='silhouette score'>"
      ]
     },
     "execution_count": 37,
     "metadata": {},
     "output_type": "execute_result"
    }
   ],
   "source": [
    "kmeans = KElbowVisualizer(c.KMeans(), k=clusters, metric='silhouette', timings=False)\n",
    "kmeans.fit(X)\n",
    "kmeans.show()\n",
    "\n",
    "# Obteve melhor desempenho adicinando mais de uma feature de recência."
   ]
  },
  {
   "cell_type": "markdown",
   "metadata": {},
   "source": [
    "## 3.3 Visualização de Silhuetas (Gráfico de Facas)"
   ]
  },
  {
   "cell_type": "code",
   "execution_count": 39,
   "metadata": {},
   "outputs": [
    {
     "data": {
      "image/png": "[encoded data removed]",
      "text/plain": [
       "<Figure size 2500x1800 with 8 Axes>"
      ]
     },
     "metadata": {},
     "output_type": "display_data"
    }
   ],
   "source": [
    "fig, ax = plt.subplots(4, 2, figsize=(25, 18))\n",
    "\n",
    "for k in clusters:\n",
    "    km = c.KMeans( n_clusters=k, init='random', n_init=10, max_iter=100, random_state=42 )\n",
    "    q, mod = divmod( k, 2 )\n",
    "    \n",
    "    visualizer = SilhouetteVisualizer( km, colors='yellowbrick', ax=ax[q-1][mod] )\n",
    "    visualizer.fit( X )\n",
    "    visualizer.finalize()"
   ]
  },
  {
   "cell_type": "markdown",
   "metadata": {},
   "source": [
    "# 4.0 Model Training"
   ]
  },
  {
   "cell_type": "markdown",
   "metadata": {},
   "source": [
    "## 4.1 K-Means"
   ]
  },
  {
   "cell_type": "code",
   "execution_count": 40,
   "metadata": {},
   "outputs": [],
   "source": [
    "# Model definition\n",
    "k = 7 \n",
    "kmeans = c.KMeans(init='random', n_clusters=k, n_init=10, random_state=42, max_iter=300)\n",
    "\n",
    "# model training\n",
    "kmeans.fit(X)\n",
    "\n",
    "# clustering\n",
    "labels = kmeans.labels_"
   ]
  },
  {
   "cell_type": "markdown",
   "metadata": {},
   "source": [
    "## 8.2 Cluster Validation"
   ]
  },
  {
   "cell_type": "code",
   "execution_count": 46,
   "metadata": {},
   "outputs": [
    {
     "name": "stdout",
     "output_type": "stream",
     "text": [
      "27047858239.566036\n",
      "0.684934314008872\n"
     ]
    },
    {
     "data": {
      "text/plain": [
       "\"\\nkmeans.inertia_: Este é um atributo do objeto KMeans no sklearn que representa a soma dos quadrados intra-cluster, \\ntambém conhecida como WSS (Within-cluster sum of square). O valor de inércia é uma métrica que indica a dispersão dos pontos dentro dos clusters. \\nQuanto menor for o valor de inércia, mais compactos e bem definidos são os clusters. Este valor é uma medida útil para avaliar a qualidade do clustering, \\nmas por si só não é suficiente para determinar o número ideal de clusters. Normalmente, o método do cotovelo (Elbow Method) é usado em conjunto com a \\ninércia para encontrar o número ótimo de clusters.\\n\\nm.silhouette_score(X, labels, metric='euclidean'): Aqui, você está calculando o escore de silhueta (Silhouette Score) usando a função silhouette_score\\ndo módulo metrics do sklearn. O escore de silhueta é uma medida de quão semelhante um ponto de dados é ao seu próprio cluster (coesão) em comparação\\ncom outros clusters (separação). Ele varia de -1 a 1, onde um valor mais próximo de 1 indica que o ponto está bem dentro do seu próprio cluster e\\nlonge dos outros clusters, enquanto um valor mais próximo de -1 indica que o ponto está próximo ao limite de outro cluster. Um valor próximo de\\n0 indica que o ponto está próximo do limite entre dois clusters. Um escore de silhueta médio mais alto indica uma melhor separação entre os clusters.\\nO parâmetro metric='euclidean' especifica a métrica de distância a ser usada para calcular a silhueta (neste caso, a distância euclidiana).\\n\""
      ]
     },
     "execution_count": 46,
     "metadata": {},
     "output_type": "execute_result"
    }
   ],
   "source": [
    "# WSS (Within-cluster sum of square)\n",
    "print(kmeans.inertia_)\n",
    "\n",
    "# SS (Silhouette Score)\n",
    "print(m.silhouette_score(X, labels, metric='euclidean'))\n",
    "\n",
    "'''\n",
    "kmeans.inertia_: Este é um atributo do objeto KMeans no sklearn que representa a soma dos quadrados intra-cluster, \n",
    "também conhecida como WSS (Within-cluster sum of square). O valor de inércia é uma métrica que indica a dispersão dos pontos dentro dos clusters. \n",
    "Quanto menor for o valor de inércia, mais compactos e bem definidos são os clusters. Este valor é uma medida útil para avaliar a qualidade do clustering, \n",
    "mas por si só não é suficiente para determinar o número ideal de clusters. Normalmente, o método do cotovelo (Elbow Method) é usado em conjunto com a \n",
    "inércia para encontrar o número ótimo de clusters.\n",
    "\n",
    "m.silhouette_score(X, labels, metric='euclidean'): Aqui, você está calculando o escore de silhueta (Silhouette Score) usando a função silhouette_score\n",
    "do módulo metrics do sklearn. O escore de silhueta é uma medida de quão semelhante um ponto de dados é ao seu próprio cluster (coesão) em comparação\n",
    "com outros clusters (separação). Ele varia de -1 a 1, onde um valor mais próximo de 1 indica que o ponto está bem dentro do seu próprio cluster e\n",
    "longe dos outros clusters, enquanto um valor mais próximo de -1 indica que o ponto está próximo ao limite de outro cluster. Um valor próximo de\n",
    "0 indica que o ponto está próximo do limite entre dois clusters. Um escore de silhueta médio mais alto indica uma melhor separação entre os clusters.\n",
    "O parâmetro metric='euclidean' especifica a métrica de distância a ser usada para calcular a silhueta (neste caso, a distância euclidiana).\n",
    "'''"
   ]
  },
  {
   "cell_type": "markdown",
   "metadata": {},
   "source": [
    "# 5.0 Cluster Analyslis"
   ]
  },
  {
   "cell_type": "markdown",
   "metadata": {},
   "source": [
    "## 5.1 Visualization Inspection"
   ]
  },
  {
   "cell_type": "markdown",
   "metadata": {},
   "source": [
    "## 5.2 Cluster Profile"
   ]
  },
  {
   "cell_type": "code",
   "execution_count": null,
   "metadata": {},
   "outputs": [],
   "source": [
    "# Number of customer\n",
    "df_cluster = df9[['customer_id', 'cluster']].groupby( 'cluster' ).count().reset_index()\n",
    "df_cluster['perc_customer'] = 100*( df_cluster['customer_id'] / df_cluster['customer_id'].sum() )\n",
    "\n",
    "# Avg Gross revenue\n",
    "df_avg_gross_revenue = df9[['gross_revenue', 'cluster']].groupby( 'cluster' ).mean().reset_index()\n",
    "df_cluster = pd.merge( df_cluster, df_avg_gross_revenue, how='inner', on='cluster' )\n",
    "\n",
    "# Avg recency days\n",
    "df_avg_recency_days = df9[['recency_days', 'cluster']].groupby( 'cluster' ).mean().reset_index()\n",
    "df_cluster = pd.merge( df_cluster, df_avg_recency_days, how='inner', on='cluster' )\n",
    "\n",
    "# Avg invoice_no\n",
    "df_invoice_no = df9[['invoice_no', 'cluster']].groupby( 'cluster' ).mean().reset_index()\n",
    "df_cluster = pd.merge( df_cluster, df_invoice_no, how='inner', on='cluster' )"
   ]
  },
  {
   "cell_type": "code",
   "execution_count": null,
   "metadata": {},
   "outputs": [],
   "source": [
    "df_cluster.sort_values('gross_revenue', ascending=False)"
   ]
  },
  {
   "cell_type": "markdown",
   "metadata": {},
   "source": [
    "# 6.0 Deploy"
   ]
  }
 ],
 "metadata": {
  "kernelspec": {
   "display_name": "cluster_fidelidade",
   "language": "python",
   "name": "python3"
  },
  "language_info": {
   "codemirror_mode": {
    "name": "ipython",
    "version": 3
   },
   "file_extension": ".py",
   "mimetype": "text/x-python",
   "name": "python",
   "nbconvert_exporter": "python",
   "pygments_lexer": "ipython3",
   "version": "3.10.13"
  }
 },
 "nbformat": 4,
 "nbformat_minor": 2
}
